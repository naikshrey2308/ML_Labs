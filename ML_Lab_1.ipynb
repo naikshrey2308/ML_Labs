{
  "nbformat": 4,
  "nbformat_minor": 0,
  "metadata": {
    "colab": {
      "provenance": [],
      "mount_file_id": "1zgS2w9PGYEs600byaKvR1PvdUt-rf5ID",
      "authorship_tag": "ABX9TyOsaupVO7r2n3vUQFuTGmEt",
      "include_colab_link": true
    },
    "kernelspec": {
      "name": "python3",
      "display_name": "Python 3"
    },
    "language_info": {
      "name": "python"
    }
  },
  "cells": [
    {
      "cell_type": "markdown",
      "metadata": {
        "id": "view-in-github",
        "colab_type": "text"
      },
      "source": [
        "<a href=\"https://colab.research.google.com/github/naikshrey2308/ML_Labs/blob/main/ML_Lab_1.ipynb\" target=\"_parent\"><img src=\"https://colab.research.google.com/assets/colab-badge.svg\" alt=\"Open In Colab\"/></a>"
      ]
    },
    {
      "cell_type": "markdown",
      "source": [
        "**Numpy**"
      ],
      "metadata": {
        "id": "hSf_5sjMVwb7"
      }
    },
    {
      "cell_type": "code",
      "execution_count": null,
      "metadata": {
        "id": "q72PoFH1-Obq",
        "colab": {
          "base_uri": "https://localhost:8080/"
        },
        "outputId": "967cf049-1f1b-4222-d9a9-d06db907074c"
      },
      "outputs": [
        {
          "output_type": "stream",
          "name": "stdout",
          "text": [
            "[[1 2 3 4 5]\n",
            " [1 2 3 4 5]\n",
            " [1 2 3 4 5]\n",
            " [1 2 3 4 5]]\n",
            "[[1 1 1 1]\n",
            " [2 2 2 2]\n",
            " [3 3 3 3]\n",
            " [4 4 4 4]\n",
            " [5 5 5 5]]\n"
          ]
        }
      ],
      "source": [
        "# Ex-1. Create two numpy arrays of size 4 X 5 and 5 X 4.\n",
        "\n",
        "import numpy as np\n",
        "\n",
        "arr1 = np.array([[1,2,3,4,5],[1,2,3,4,5],[1,2,3,4,5],[1,2,3,4,5]])\n",
        "# arr1.T gives the transpose of arr1\n",
        "# Since we want a 5 x 4 matrix, it will be the transpose of a 4 x 5 matrix, i.e. of arr1\n",
        "arr2 = arr1.T\n",
        "\n",
        "print(arr1)\n",
        "print(arr2)"
      ]
    },
    {
      "cell_type": "code",
      "source": [
        "# Ex-2. Randomly initialize the above arrays\n",
        "\n",
        "import numpy as np\n",
        "\n",
        "# The below statements randomly initiliaze arrays of sizes 4x5 and 5x4 respectively\n",
        "# choose the random integers below 100\n",
        "arr1 = np.random.randint(100, size=(4,5));\n",
        "# choose the random integers below 200\n",
        "arr2 = np.random.randint(200, size=(5,4));\n",
        "\n",
        "print(arr1)\n",
        "print(arr2)"
      ],
      "metadata": {
        "id": "f0VUwTWOvuTt",
        "colab": {
          "base_uri": "https://localhost:8080/"
        },
        "outputId": "c78a8863-e918-4cb6-ccae-f6f0f34d3d74"
      },
      "execution_count": null,
      "outputs": [
        {
          "output_type": "stream",
          "name": "stdout",
          "text": [
            "[[89 29 51 56 33]\n",
            " [48 60 70 97 77]\n",
            " [14 72 58 63 63]\n",
            " [17  9 17 39 76]]\n",
            "[[146 142 110  64]\n",
            " [ 84  40  60  79]\n",
            " [ 82 105 189 116]\n",
            " [ 63 119 107  22]\n",
            " [136  23  22   1]]\n"
          ]
        }
      ]
    },
    {
      "cell_type": "code",
      "source": [
        "# Ex-3. Perform matrix multiplication\n",
        "\n",
        "import numpy as np\n",
        "\n",
        "arr1 = np.random.randint(10, size=(2, 3))\n",
        "arr2 = np.random.randint(10, size=(3,4))\n",
        "print(arr1)\n",
        "print(arr2)\n",
        "\n",
        "# '@' operator is a shorthand for np.dot() function\n",
        "# when matrices are operands, it performs the matrix multiplication of the matrices\n",
        "arr = arr1 @ arr2\n",
        "print(arr)\n",
        "arrd = np.dot(arr1, arr2)\n",
        "print(arrd)"
      ],
      "metadata": {
        "id": "JIKLLiH3scxL",
        "colab": {
          "base_uri": "https://localhost:8080/"
        },
        "outputId": "099e43d4-3be2-4d40-b02b-61dcbee13afc"
      },
      "execution_count": null,
      "outputs": [
        {
          "output_type": "stream",
          "name": "stdout",
          "text": [
            "[[1 1 5]\n",
            " [5 3 3]]\n",
            "[[7 6 7 2]\n",
            " [0 3 8 5]\n",
            " [2 2 0 3]]\n",
            "[[17 19 15 22]\n",
            " [41 45 59 34]]\n",
            "[[17 19 15 22]\n",
            " [41 45 59 34]]\n"
          ]
        }
      ]
    },
    {
      "cell_type": "code",
      "source": [
        "# Ex-4. Perform element-wise matrix multiplication\n",
        "\n",
        "# This is also known as 'Hadamard Product' or 'Schur Product'\n",
        "# Individually multiply the elements both the matrices\n",
        "\n",
        "import numpy as np\n",
        "\n",
        "arr1 = np.array([[1,2],[3,4]])\n",
        "arr2 = np.array([[4,8],[0,5]])\n",
        "\n",
        "# using np.multiply() method\n",
        "arrm = np.multiply(arr1, arr2)\n",
        "print(arrm)\n",
        "# shorthand for performing np.multiply()\n",
        "arr = arr1 * arr2\n",
        "print(arr)"
      ],
      "metadata": {
        "id": "Rg7N75TYtsfE",
        "colab": {
          "base_uri": "https://localhost:8080/"
        },
        "outputId": "bead22cc-cf0f-4ff1-a535-6a7e118972c0"
      },
      "execution_count": null,
      "outputs": [
        {
          "output_type": "stream",
          "name": "stdout",
          "text": [
            "[[ 4 16]\n",
            " [ 0 20]]\n",
            "[[ 4 16]\n",
            " [ 0 20]]\n"
          ]
        }
      ]
    },
    {
      "cell_type": "code",
      "source": [
        "# Ex-5. Find mean, median of the first matrix\n",
        "\n",
        "import numpy as np\n",
        "\n",
        "arr = np.random.randint(100, size=(4,5))\n",
        "print(arr)\n",
        "\n",
        "# calculates mean along the columns\n",
        "hmean = np.mean(arr, axis=0)\n",
        "# calculates mean along the rows\n",
        "vmean = np.mean(arr, axis=1)\n",
        "print(hmean, vmean)\n",
        "\n",
        "# calculates median along the columns\n",
        "hmed = np.median(arr, axis=0)\n",
        "# calculates median along the rows\n",
        "vmed = np.median(arr, axis=1)\n",
        "print(hmed, vmed)"
      ],
      "metadata": {
        "id": "-Oojd_qSu3FS",
        "colab": {
          "base_uri": "https://localhost:8080/"
        },
        "outputId": "1f73efe6-9130-4d0e-e5d2-3494ed80de3d"
      },
      "execution_count": null,
      "outputs": [
        {
          "output_type": "stream",
          "name": "stdout",
          "text": [
            "[[59 70  0 25 76]\n",
            " [ 6 61 10 65 95]\n",
            " [33 20 76 56 58]\n",
            " [ 0  5 52 10 38]]\n",
            "[24.5  39.   34.5  39.   66.75] [46.  47.4 48.6 21. ]\n",
            "[19.5 40.5 31.  40.5 67. ] [59. 61. 56. 10.]\n"
          ]
        }
      ]
    },
    {
      "cell_type": "code",
      "source": [
        "# Ex-6. (i) Get the transpose of the matrix that you created.\n",
        "\n",
        "import numpy as np\n",
        "\n",
        "arr = np.random.randint(100, size=(4,5))\n",
        "print(arr)\n",
        "\n",
        "# T property of matrix gives its transpose\n",
        "arr1 = arr.T\n",
        "print(arr1)\n",
        "# Alternatively, we can also use the np.transpose() method\n",
        "arr2 = np.transpose(arr)\n",
        "print(arr2)\n",
        "print()\n",
        "\n",
        "\n",
        "# Ex-6. (ii) Find the determinant of a square matrix.\n",
        "\n",
        "mat = np.random.randint(10, size=(2,2))\n",
        "print(mat)\n",
        "\n",
        "# np.linalg.det() method allows us to find the determinant of a square matrix\n",
        "# round() is used because the det() method may give a minor imprecision while representing floating-point values\n",
        "det1 = np.linalg.det(mat).round()\n",
        "print(det1)"
      ],
      "metadata": {
        "id": "pz_D-LRtv-f7",
        "colab": {
          "base_uri": "https://localhost:8080/"
        },
        "outputId": "00e6773c-e42b-4878-f37f-b22c87dcc490"
      },
      "execution_count": null,
      "outputs": [
        {
          "output_type": "stream",
          "name": "stdout",
          "text": [
            "[[62 24 11 96  9]\n",
            " [68  7 28 56 77]\n",
            " [66 60 59 31  5]\n",
            " [66 25  3 24 31]]\n",
            "[[62 68 66 66]\n",
            " [24  7 60 25]\n",
            " [11 28 59  3]\n",
            " [96 56 31 24]\n",
            " [ 9 77  5 31]]\n",
            "[[62 68 66 66]\n",
            " [24  7 60 25]\n",
            " [11 28 59  3]\n",
            " [96 56 31 24]\n",
            " [ 9 77  5 31]]\n",
            "\n",
            "[[6 2]\n",
            " [0 5]]\n",
            "30.0\n"
          ]
        }
      ]
    },
    {
      "cell_type": "code",
      "source": [
        "# Ex-7. Obtain each row in the second column of the first array.\n",
        "\n",
        "import numpy as np\n",
        "\n",
        "arr = np.random.randint(100, size=(4,5))\n",
        "print(arr)\n",
        "# second column will be the second row in the transpose\n",
        "row = arr.T[1:2]\n",
        "print(row)"
      ],
      "metadata": {
        "id": "PqQmQkB6xEXh",
        "colab": {
          "base_uri": "https://localhost:8080/"
        },
        "outputId": "f9d6084b-a797-4ce2-cc0b-3bcc89367664"
      },
      "execution_count": null,
      "outputs": [
        {
          "output_type": "stream",
          "name": "stdout",
          "text": [
            "[[33 16  5 42 21]\n",
            " [ 1 41 20 89 71]\n",
            " [72 60 85 76 33]\n",
            " [27 64 68 43 38]]\n",
            "[[16 41 60 64]]\n"
          ]
        }
      ]
    },
    {
      "cell_type": "code",
      "source": [
        "# Ex-8. Convert Numeric entries(columns) of mtcars.csv to Mean Centered Version.\n",
        "\n",
        "import numpy as np\n",
        "import csv\n",
        "\n",
        "data = []\n",
        "# read the data from the csv file\n",
        "with open(\"mtcars.csv\", \"r\") as file:\n",
        "    reader = csv.reader(file)\n",
        "    for lines in reader:\n",
        "        data.append(lines)\n",
        "\n",
        "data2 = np.array(data)\n",
        "# extract the useful data from the main data\n",
        "# the heading row is not useful\n",
        "data = data[1:]\n",
        "data = np.array(data)\n",
        "# also the car names are not useful\n",
        "data = np.delete(data, 0, axis=1)\n",
        "\n",
        "# convert the data from string to float\n",
        "data = data.astype(float)\n",
        "# calculate column-wise mean\n",
        "mean = np.mean(data, axis=0)\n",
        "for i in range(len(data)):\n",
        "    data[i] = data[i] - mean\n",
        "\n",
        "# modify the original data by replacing the subpart which is modified above\n",
        "data2[1:, 1:] = data\n",
        "\n",
        "# write the data to a new csv file\n",
        "with open(\"mtcars2.csv\", \"w\") as file:\n",
        "    writer = csv.writer(file)\n",
        "    writer.writerows(data2)"
      ],
      "metadata": {
        "id": "xK3HfcsR9gXK"
      },
      "execution_count": null,
      "outputs": []
    },
    {
      "cell_type": "markdown",
      "source": [
        "**NLTK**"
      ],
      "metadata": {
        "id": "q_7IyKhFz2-M"
      }
    },
    {
      "cell_type": "markdown",
      "source": [
        "Movie Reviews is a set of 2000 movie reviews, 1000 of which are positive and others negative."
      ],
      "metadata": {
        "id": "k-ZuR8Mg5xNg"
      }
    },
    {
      "cell_type": "code",
      "source": [
        "import nltk\n",
        "from nltk.corpus import movie_reviews\n",
        "from nltk.corpus import stopwords\n",
        "from nltk.corpus import wordnet as wn\n",
        "import matplotlib.pyplot as plt\n",
        "import random\n",
        "import re\n",
        "import string\n",
        "from nltk.stem import PorterStemmer\n",
        "from nltk.stem import WordNetLemmatizer\n",
        "from nltk.tokenize import word_tokenize\n",
        "\n",
        "nltk.download('movie_reviews')\n",
        "nltk.download(\"stopwords\")\n",
        "nltk.download(\"punkt\")\n",
        "nltk.download(\"wordnet\")\n",
        "nltk.download(\"omw-1.4\")\n",
        "\n",
        "pos_rev = movie_reviews.fileids(\"pos\");\n",
        "neg_rev = movie_reviews.fileids(\"neg\");\n",
        "print(\"The number of positive reviews: \", len(pos_rev), \" and their type is: \", type(pos_rev));\n",
        "print(\"The number of negative reviews: \", len(neg_rev), \" and their type is: \", type(neg_rev));\n",
        "print()\n",
        "\n",
        "# plot a figure for the samples\n",
        "fig = plt.figure(figsize=(5,5))\n",
        "labels = [\"Positive\", \"Negative\"]\n",
        "sizes = [len(pos_rev), len(neg_rev)]\n",
        "colors = [\"#66ff66\", \"#ff6666\"]\n",
        "plt.pie(sizes, labels=labels, colors=colors, startangle=45, shadow=False, autopct=\"%1.2f%%\")\n",
        "plt.axis(\"equal\")\n",
        "plt.show()\n",
        "print()\n",
        "\n",
        "# printing with different colors\n",
        "# positive in green\n",
        "# print(\"\\033[92m\", movie_reviews.raw(fileids=pos_rev[random.randint(0, 100)]))\n",
        "# negative in red\n",
        "# print(\"\\033[91m\", movie_reviews.words(neg_rev[random.randint(0, 100)]))\n",
        "\n",
        "positive_review = movie_reviews.raw(fileids=pos_rev[random.randint(0, 100)])\n",
        "positive_review_tokens = word_tokenize(positive_review)\n",
        "print(\"Tokenized positive review: \", positive_review_tokens)\n",
        "print()\n",
        "\n",
        "stopwords_english = stopwords.words(\"english\")\n",
        "print(\"Stop words: \", stopwords_english)\n",
        "print()\n",
        "print(string.punctuation)\n",
        "print()\n",
        "\n",
        "# cleaning the review\n",
        "review_clean = []\n",
        "for word in positive_review_tokens:\n",
        "    if word not in stopwords_english and word not in string.punctuation:\n",
        "        review_clean.append(word)\n",
        "print(\"Cleaned review: \", review_clean)\n",
        "print()\n",
        "\n",
        "# now we'll perform stemming, i.e. converting the review to the root words\n",
        "stemmer = PorterStemmer()\n",
        "review_stem = []\n",
        "for word in review_clean:\n",
        "    review_stem.append(stemmer.stem(word))\n",
        "# but we see that there are too many miniscule imperfections\n",
        "print(\"Stemmed review: \", review_stem)\n",
        "print()\n",
        "\n",
        "# hence we use lematizer to mitigate the amount of imperfections\n",
        "lemmatizer = WordNetLemmatizer()\n",
        "review_lem = []\n",
        "for word in review_clean:\n",
        "    review_lem.append(lemmatizer.lemmatize(word))\n",
        "print(\"Lemmatized review: \", review_lem)"
      ],
      "metadata": {
        "id": "L3lUWdO7z0K5",
        "colab": {
          "base_uri": "https://localhost:8080/",
          "height": 722
        },
        "outputId": "a3ba9144-40c5-4a08-a272-8513c0484f29"
      },
      "execution_count": null,
      "outputs": [
        {
          "output_type": "stream",
          "name": "stderr",
          "text": [
            "[nltk_data] Downloading package movie_reviews to /root/nltk_data...\n",
            "[nltk_data]   Unzipping corpora/movie_reviews.zip.\n",
            "[nltk_data] Downloading package stopwords to /root/nltk_data...\n",
            "[nltk_data]   Unzipping corpora/stopwords.zip.\n",
            "[nltk_data] Downloading package punkt to /root/nltk_data...\n",
            "[nltk_data]   Unzipping tokenizers/punkt.zip.\n",
            "[nltk_data] Downloading package wordnet to /root/nltk_data...\n",
            "[nltk_data] Downloading package omw-1.4 to /root/nltk_data...\n"
          ]
        },
        {
          "output_type": "stream",
          "name": "stdout",
          "text": [
            "The number of positive reviews:  1000  and their type is:  <class 'list'>\n",
            "The number of negative reviews:  1000  and their type is:  <class 'list'>\n",
            "\n"
          ]
        },
        {
          "output_type": "display_data",
          "data": {
            "text/plain": [
              "<Figure size 360x360 with 1 Axes>"
            ],
            "image/png": "[encoded data removed]"
          },
          "metadata": {}
        },
        {
          "output_type": "stream",
          "name": "stdout",
          "text": [
            "\n",
            "Tokenized positive review:  ['when', 'bulworth', 'ended', ',', 'i', 'allowed', 'myself', 'a', 'sigh', 'of', 'relief', ':', '?', 'it', 'is', 'possible', 'for', 'me', 'to', 'enjoy', 'political', 'satire', '.', '?', 'there', 'have', 'been', 'several', 'recent', 'political', 'films', 'that', 'did', \"n't\", 'do', 'a', 'whole', 'lot', 'for', 'me', '--', 'wag', 'the', 'dog', ',', 'for', 'instance', ',', 'i', 'found', 'to', 'be', 'an', 'intelligent', 'but', 'heartless', 'film', ',', 'while', 'primary', 'colors', 'is', 'unbearable', 'and', 'unwatchable', 'in', 'its', 'awfulness', '.', '?', 'bulworth', 'is', 'a', 'far', 'better', 'film', 'than', 'these', ',', 'both', 'in', 'its', 'execution', 'and', 'lasting', 'impression', '.', '?', 'it', \"'s\", 'a', 'tremendously', 'funny', 'and', 'intelligent', 'picture', ',', 'but', 'it', 'also', 'has', 'an', 'emotional', 'center', '--', 'writer/director/star', 'warren', 'beatty', 'allows', 'the', 'audience', 'to', 'identify', 'with', 'his', 'character', ',', 'and', ',', 'in', 'turn', ',', 'we', 'like', 'him', 'and', 'actually', 'care', 'about', 'the', 'story', '.', '?', 'beatty', 'plays', 'incumbent', 'democratic', 'senator', 'jay', 'billington', 'bulworth', ';', 'the', 'film', 'opens', 'and', 'we', 'see', 'bulworth', 'sobbing', 'as', 'he', 'watches', 'his', 'television', 'spots', 'over', 'and', 'over', 'again', '.', '?', 'he', 'has', \"n't\", 'slept', 'in', 'days', ',', 'nor', 'has', 'he', 'eaten', ',', 'and', ',', 'almost', 'instantaneously', ',', 'he', 'goes', 'insane', '.', '?', 'he', \"'s\", 'not', 'stark', 'raving', 'mad', '(', 'not', 'outright', ',', 'anyway', ')', ',', 'but', 'he', \"'s\", 'definitely', 'bonkers', '.', '?', 'it', \"'s\", 'the', 'final', 'weekend', 'of', 'his', 'campaign', ',', 'and', 'his', 'assistant', ',', 'murphy', '(', 'oliver', 'platt', ')', 'has', 'written', 'him', 'a', 'speech', 'to', 'feed', 'to', 'a', 'group', 'of', 'black', 'people', 'in', 'a', 'church', 'in', 'the', 'ghetto', '.', '?', 'bulworth', 'begins', 'the', 'speech', ',', 'but', 'suddenly', 'goes', 'off', 'track', 'and', 'just', 'starts', 'being', 'honest', '.', '?', '``', 'you', 'mean', ',', '``', 'one', 'lady', 'asks', ',', '``', 'the', 'democratic', 'party', 'does', \"n't\", 'care', 'about', 'the', 'african', 'american', 'community', '?', '``', '?', '``', 'well', ',', '``', 'he', 'shouts', ',', 'laughing', ',', '``', 'is', \"n't\", 'that', 'obvious', '?', '``', 'the', 'story', 'is', 'propelled', 'by', 'a', 'device', 'in', 'which', 'bulworth', 'puts', 'out', 'a', 'contract', 'on', 'his', 'own', 'life', '(', 'he', 'muses', 'later', 'that', 'it', \"'s\", 'a', 'bad', 'thing', 'to', 'make', 'decisions', 'when', 'you', \"'re\", 'suicidal', ')', ';', 'he', 'keeps', 'seeing', 'a', 'man', 'in', 'sunglasses', '(', 'graham', 'beckel', ')', 'whom', 'he', 'believes', 'to', 'be', 'the', 'hitman', '.', '?', 'bulworth', 'also', 'meets', 'nina', '(', 'halle', 'berry', ')', 'with', 'whom', 'he', 'becomes', 'infatuated', '.', '?', 'suddenly', ',', 'in', 'the', 'short', 'span', 'of', 'this', 'weekend', ',', 'bulworth', \"'s\", 'no-nonsense', '``', 'truth', 'in', 'politics', '``', 'methods', 'become', 'a', 'national', 'sensation', ',', 'and', 'he', 'shoots', 'ahead', 'in', 'the', 'polls', 'despite', 'the', 'fact', 'that', 'he', \"'s\", 'appearing', 'on', 'television', 'wearing', 'gang', 'clothes', 'and', 'spewing', 'more', 'profanity', 'than', 'coherent', 'sentences', '.', 'beatty', \"'s\", 'work', 'on', 'both', 'sides', 'of', 'the', 'camera', 'is', 'excellent', '.', '?', 'his', 'script', 'and', 'direction', 'are', 'both', 'extremely', 'sharp', ',', 'as', 'is', 'the', 'surprisingly', 'strong', 'characterization', 'of', 'bulworth', 'himself', '.', '?', 'here', 'is', 'a', 'man', 'who', \"'s\", 'reached', 'his', 'limit', ',', 'and', 'his', 'way', 'of', 'lashing', 'back', 'is', 'by', 'screwing', 'over', 'the', 'entire', 'political', 'structure', '.', '?', 'i', 'like', 'that', 'the', 'film', 'does', \"n't\", 'take', 'a', 'clear', 'shot', 'at', 'any', 'of', 'the', 'political', 'parties', 'or', 'affiliations', ',', 'but', 'at', 'politics', 'in', 'general', 'and', 'how', 'everything', 'is', 'run', 'by', 'the', 'rich', '(', 'although', 'the', 'anti-rich', 'sentiments', 'do', 'get', 'a', 'bit', 'tiresome', 'by', 'the', 'end', 'of', 'the', 'film', ')', '.', '?', 'some', 'of', 'the', 'segments', 'are', 'simply', 'hilarious', ',', 'such', 'as', 'a', 'lengthy', 'rap', 'that', 'he', 'delivers', 'at', 'a', 'luncheon', 'dedicated', 'to', 'him', '.', '?', 'much', 'of', 'the', 'film', 'is', 'completely', 'absurd', ',', 'but', 'that', \"'s\", 'the', 'fun', 'part', 'about', 'it', '.', '?', 'it', \"'s\", 'an', 'angry', ',', 'serious', 'film', 'at', 'the', 'core', ',', 'but', 'the', 'package', 'that', 'beatty', 'has', 'created', 'is', 'so', 'much', 'more', 'accessible', 'than', 'recent', 'attempts', 'in', 'the', 'genre', '.', '?', 'what', 'adds', 'to', 'this', 'feeling', 'is', 'beatty', \"'s\", 'portrayal', 'of', 'bulworth', ';', 'this', 'is', 'a', 'performance', 'that', 'deserves', 'recognition', 'on', 'a', 'higher', 'scale', '.', '?', 'beatty', 'is', 'so', 'much', 'fun', 'to', 'watch', 'here', '--', 'he', \"'s\", 'always', 'funny', ',', 'but', 'he', \"'s\", 'also', 'subtle', 'in', 'ways', 'that', 'flesh', 'out', 'his', 'character', 'without', 'dialogue', 'or', 'hugely', 'noticeable', 'actions', '.', '?', 'beatty', 'is', 'so', 'good', 'that', 'bulworth', ',', 'despite', 'his', 'shortcomings', 'as', 'a', 'human', 'being', ',', 'is', 'an', 'entirely', 'sympathetic', 'and', 'likable', 'character', 'almost', 'from', 'the', 'beginning', '.', 'the', 'supporting', 'cast', 'is', 'vast', 'and', 'colorful', '.', '?', 'berry', 'is', 'luminous', ',', 'as', 'always', ',', 'and', 'adds', 'to', 'her', 'repertoire', 'of', 'solid', 'supporting', 'roles', '.', '?', 'don', 'cheadle', 'has', 'a', 'good', 'role', 'as', 'a', 'drug', 'dealer', 'who', 'uses', 'gun-toting', 'toddlers', 'to', 'do', 'his', 'dirty', 'work', '.', '?', 'oliver', 'platt', 'is', 'an', 'actor', 'who', 'should', 'be', 'careful', ',', 'for', 'someday', 'i', 'fear', 'he', 'may', 'induce', 'a', 'heart', 'attack', 'with', 'the', 'intensity', 'of', 'his', 'acting', '(', 'though', 'he', \"'s\", 'very', 'funny', 'to', 'watch', ')', '.', '?', 'paul', 'sorvino', 'adds', 'the', 'southern', 'accent', 'to', 'his', 'list', 'of', 'mastered', 'inflections', '.', 'is', 'bulworth', 'offensive', '?', '?', 'i', 'suppose', 'some', 'may', 'see', 'it', 'that', 'way', '.', '?', 'i', 'was', \"n't\", 'offended', 'by', 'the', 'film', ',', 'but', 'then', 'again', ',', 'i', 'hardly', 'care', 'about', 'politics', '.', '?', 'i', 'think', 'that', 'people', 'who', 'find', 'this', 'film', 'offensive', 'will', 'just', 'be', 'blindsided', 'by', 'the', 'honesty', 'of', 'the', 'story', '.', '?', 'the', 'film', 'is', \"n't\", 'perfect', ',', 'of', 'course', '--', 'the', 'ending', 'did', \"n't\", 'quite', 'work', 'for', 'me', ',', 'and', 'the', 'a', 'few', 'of', 'the', 'scenes', 'between', 'bulworth', 'and', 'nina', 'feel', 'forced', '(', 'although', 'the', 'eclectic', 'dance', 'sequence', 'is', 'fantastic', ')', '.', '?', 'but', 'these', 'are', 'minor', 'quibbles', 'about', 'an', 'otherwise', 'brilliant', 'film', '.', '?', 'bulworth', 'is', 'a', 'smart', ',', 'uproariously', 'funny', 'picture', 'that', 'proves', 'to', 'me', 'that', 'political', 'satire', 'can', 'scratch', 'far', 'deeper', 'than', 'the', 'surface', '.', '?']\n",
            "\n",
            "Stop words:  ['i', 'me', 'my', 'myself', 'we', 'our', 'ours', 'ourselves', 'you', \"you're\", \"you've\", \"you'll\", \"you'd\", 'your', 'yours', 'yourself', 'yourselves', 'he', 'him', 'his', 'himself', 'she', \"she's\", 'her', 'hers', 'herself', 'it', \"it's\", 'its', 'itself', 'they', 'them', 'their', 'theirs', 'themselves', 'what', 'which', 'who', 'whom', 'this', 'that', \"that'll\", 'these', 'those', 'am', 'is', 'are', 'was', 'were', 'be', 'been', 'being', 'have', 'has', 'had', 'having', 'do', 'does', 'did', 'doing', 'a', 'an', 'the', 'and', 'but', 'if', 'or', 'because', 'as', 'until', 'while', 'of', 'at', 'by', 'for', 'with', 'about', 'against', 'between', 'into', 'through', 'during', 'before', 'after', 'above', 'below', 'to', 'from', 'up', 'down', 'in', 'out', 'on', 'off', 'over', 'under', 'again', 'further', 'then', 'once', 'here', 'there', 'when', 'where', 'why', 'how', 'all', 'any', 'both', 'each', 'few', 'more', 'most', 'other', 'some', 'such', 'no', 'nor', 'not', 'only', 'own', 'same', 'so', 'than', 'too', 'very', 's', 't', 'can', 'will', 'just', 'don', \"don't\", 'should', \"should've\", 'now', 'd', 'll', 'm', 'o', 're', 've', 'y', 'ain', 'aren', \"aren't\", 'couldn', \"couldn't\", 'didn', \"didn't\", 'doesn', \"doesn't\", 'hadn', \"hadn't\", 'hasn', \"hasn't\", 'haven', \"haven't\", 'isn', \"isn't\", 'ma', 'mightn', \"mightn't\", 'mustn', \"mustn't\", 'needn', \"needn't\", 'shan', \"shan't\", 'shouldn', \"shouldn't\", 'wasn', \"wasn't\", 'weren', \"weren't\", 'won', \"won't\", 'wouldn', \"wouldn't\"]\n",
            "\n",
            "!\"#$%&'()*+,-./:;<=>?@[\\]^_`{|}~\n",
            "\n",
            "Cleaned review:  ['bulworth', 'ended', 'allowed', 'sigh', 'relief', 'possible', 'enjoy', 'political', 'satire', 'several', 'recent', 'political', 'films', \"n't\", 'whole', 'lot', '--', 'wag', 'dog', 'instance', 'found', 'intelligent', 'heartless', 'film', 'primary', 'colors', 'unbearable', 'unwatchable', 'awfulness', 'bulworth', 'far', 'better', 'film', 'execution', 'lasting', 'impression', \"'s\", 'tremendously', 'funny', 'intelligent', 'picture', 'also', 'emotional', 'center', '--', 'writer/director/star', 'warren', 'beatty', 'allows', 'audience', 'identify', 'character', 'turn', 'like', 'actually', 'care', 'story', 'beatty', 'plays', 'incumbent', 'democratic', 'senator', 'jay', 'billington', 'bulworth', 'film', 'opens', 'see', 'bulworth', 'sobbing', 'watches', 'television', 'spots', \"n't\", 'slept', 'days', 'eaten', 'almost', 'instantaneously', 'goes', 'insane', \"'s\", 'stark', 'raving', 'mad', 'outright', 'anyway', \"'s\", 'definitely', 'bonkers', \"'s\", 'final', 'weekend', 'campaign', 'assistant', 'murphy', 'oliver', 'platt', 'written', 'speech', 'feed', 'group', 'black', 'people', 'church', 'ghetto', 'bulworth', 'begins', 'speech', 'suddenly', 'goes', 'track', 'starts', 'honest', '``', 'mean', '``', 'one', 'lady', 'asks', '``', 'democratic', 'party', \"n't\", 'care', 'african', 'american', 'community', '``', '``', 'well', '``', 'shouts', 'laughing', '``', \"n't\", 'obvious', '``', 'story', 'propelled', 'device', 'bulworth', 'puts', 'contract', 'life', 'muses', 'later', \"'s\", 'bad', 'thing', 'make', 'decisions', \"'re\", 'suicidal', 'keeps', 'seeing', 'man', 'sunglasses', 'graham', 'beckel', 'believes', 'hitman', 'bulworth', 'also', 'meets', 'nina', 'halle', 'berry', 'becomes', 'infatuated', 'suddenly', 'short', 'span', 'weekend', 'bulworth', \"'s\", 'no-nonsense', '``', 'truth', 'politics', '``', 'methods', 'become', 'national', 'sensation', 'shoots', 'ahead', 'polls', 'despite', 'fact', \"'s\", 'appearing', 'television', 'wearing', 'gang', 'clothes', 'spewing', 'profanity', 'coherent', 'sentences', 'beatty', \"'s\", 'work', 'sides', 'camera', 'excellent', 'script', 'direction', 'extremely', 'sharp', 'surprisingly', 'strong', 'characterization', 'bulworth', 'man', \"'s\", 'reached', 'limit', 'way', 'lashing', 'back', 'screwing', 'entire', 'political', 'structure', 'like', 'film', \"n't\", 'take', 'clear', 'shot', 'political', 'parties', 'affiliations', 'politics', 'general', 'everything', 'run', 'rich', 'although', 'anti-rich', 'sentiments', 'get', 'bit', 'tiresome', 'end', 'film', 'segments', 'simply', 'hilarious', 'lengthy', 'rap', 'delivers', 'luncheon', 'dedicated', 'much', 'film', 'completely', 'absurd', \"'s\", 'fun', 'part', \"'s\", 'angry', 'serious', 'film', 'core', 'package', 'beatty', 'created', 'much', 'accessible', 'recent', 'attempts', 'genre', 'adds', 'feeling', 'beatty', \"'s\", 'portrayal', 'bulworth', 'performance', 'deserves', 'recognition', 'higher', 'scale', 'beatty', 'much', 'fun', 'watch', '--', \"'s\", 'always', 'funny', \"'s\", 'also', 'subtle', 'ways', 'flesh', 'character', 'without', 'dialogue', 'hugely', 'noticeable', 'actions', 'beatty', 'good', 'bulworth', 'despite', 'shortcomings', 'human', 'entirely', 'sympathetic', 'likable', 'character', 'almost', 'beginning', 'supporting', 'cast', 'vast', 'colorful', 'berry', 'luminous', 'always', 'adds', 'repertoire', 'solid', 'supporting', 'roles', 'cheadle', 'good', 'role', 'drug', 'dealer', 'uses', 'gun-toting', 'toddlers', 'dirty', 'work', 'oliver', 'platt', 'actor', 'careful', 'someday', 'fear', 'may', 'induce', 'heart', 'attack', 'intensity', 'acting', 'though', \"'s\", 'funny', 'watch', 'paul', 'sorvino', 'adds', 'southern', 'accent', 'list', 'mastered', 'inflections', 'bulworth', 'offensive', 'suppose', 'may', 'see', 'way', \"n't\", 'offended', 'film', 'hardly', 'care', 'politics', 'think', 'people', 'find', 'film', 'offensive', 'blindsided', 'honesty', 'story', 'film', \"n't\", 'perfect', 'course', '--', 'ending', \"n't\", 'quite', 'work', 'scenes', 'bulworth', 'nina', 'feel', 'forced', 'although', 'eclectic', 'dance', 'sequence', 'fantastic', 'minor', 'quibbles', 'otherwise', 'brilliant', 'film', 'bulworth', 'smart', 'uproariously', 'funny', 'picture', 'proves', 'political', 'satire', 'scratch', 'far', 'deeper', 'surface']\n",
            "\n",
            "Stemmed review:  ['bulworth', 'end', 'allow', 'sigh', 'relief', 'possibl', 'enjoy', 'polit', 'satir', 'sever', 'recent', 'polit', 'film', \"n't\", 'whole', 'lot', '--', 'wag', 'dog', 'instanc', 'found', 'intellig', 'heartless', 'film', 'primari', 'color', 'unbear', 'unwatch', 'aw', 'bulworth', 'far', 'better', 'film', 'execut', 'last', 'impress', \"'s\", 'tremend', 'funni', 'intellig', 'pictur', 'also', 'emot', 'center', '--', 'writer/director/star', 'warren', 'beatti', 'allow', 'audienc', 'identifi', 'charact', 'turn', 'like', 'actual', 'care', 'stori', 'beatti', 'play', 'incumb', 'democrat', 'senat', 'jay', 'billington', 'bulworth', 'film', 'open', 'see', 'bulworth', 'sob', 'watch', 'televis', 'spot', \"n't\", 'slept', 'day', 'eaten', 'almost', 'instantan', 'goe', 'insan', \"'s\", 'stark', 'rave', 'mad', 'outright', 'anyway', \"'s\", 'definit', 'bonker', \"'s\", 'final', 'weekend', 'campaign', 'assist', 'murphi', 'oliv', 'platt', 'written', 'speech', 'feed', 'group', 'black', 'peopl', 'church', 'ghetto', 'bulworth', 'begin', 'speech', 'suddenli', 'goe', 'track', 'start', 'honest', '``', 'mean', '``', 'one', 'ladi', 'ask', '``', 'democrat', 'parti', \"n't\", 'care', 'african', 'american', 'commun', '``', '``', 'well', '``', 'shout', 'laugh', '``', \"n't\", 'obviou', '``', 'stori', 'propel', 'devic', 'bulworth', 'put', 'contract', 'life', 'muse', 'later', \"'s\", 'bad', 'thing', 'make', 'decis', \"'re\", 'suicid', 'keep', 'see', 'man', 'sunglass', 'graham', 'beckel', 'believ', 'hitman', 'bulworth', 'also', 'meet', 'nina', 'hall', 'berri', 'becom', 'infatu', 'suddenli', 'short', 'span', 'weekend', 'bulworth', \"'s\", 'no-nonsens', '``', 'truth', 'polit', '``', 'method', 'becom', 'nation', 'sensat', 'shoot', 'ahead', 'poll', 'despit', 'fact', \"'s\", 'appear', 'televis', 'wear', 'gang', 'cloth', 'spew', 'profan', 'coher', 'sentenc', 'beatti', \"'s\", 'work', 'side', 'camera', 'excel', 'script', 'direct', 'extrem', 'sharp', 'surprisingli', 'strong', 'character', 'bulworth', 'man', \"'s\", 'reach', 'limit', 'way', 'lash', 'back', 'screw', 'entir', 'polit', 'structur', 'like', 'film', \"n't\", 'take', 'clear', 'shot', 'polit', 'parti', 'affili', 'polit', 'gener', 'everyth', 'run', 'rich', 'although', 'anti-rich', 'sentiment', 'get', 'bit', 'tiresom', 'end', 'film', 'segment', 'simpli', 'hilari', 'lengthi', 'rap', 'deliv', 'luncheon', 'dedic', 'much', 'film', 'complet', 'absurd', \"'s\", 'fun', 'part', \"'s\", 'angri', 'seriou', 'film', 'core', 'packag', 'beatti', 'creat', 'much', 'access', 'recent', 'attempt', 'genr', 'add', 'feel', 'beatti', \"'s\", 'portray', 'bulworth', 'perform', 'deserv', 'recognit', 'higher', 'scale', 'beatti', 'much', 'fun', 'watch', '--', \"'s\", 'alway', 'funni', \"'s\", 'also', 'subtl', 'way', 'flesh', 'charact', 'without', 'dialogu', 'huge', 'notic', 'action', 'beatti', 'good', 'bulworth', 'despit', 'shortcom', 'human', 'entir', 'sympathet', 'likabl', 'charact', 'almost', 'begin', 'support', 'cast', 'vast', 'color', 'berri', 'lumin', 'alway', 'add', 'repertoir', 'solid', 'support', 'role', 'cheadl', 'good', 'role', 'drug', 'dealer', 'use', 'gun-tot', 'toddler', 'dirti', 'work', 'oliv', 'platt', 'actor', 'care', 'someday', 'fear', 'may', 'induc', 'heart', 'attack', 'intens', 'act', 'though', \"'s\", 'funni', 'watch', 'paul', 'sorvino', 'add', 'southern', 'accent', 'list', 'master', 'inflect', 'bulworth', 'offens', 'suppos', 'may', 'see', 'way', \"n't\", 'offend', 'film', 'hardli', 'care', 'polit', 'think', 'peopl', 'find', 'film', 'offens', 'blindsid', 'honesti', 'stori', 'film', \"n't\", 'perfect', 'cours', '--', 'end', \"n't\", 'quit', 'work', 'scene', 'bulworth', 'nina', 'feel', 'forc', 'although', 'eclect', 'danc', 'sequenc', 'fantast', 'minor', 'quibbl', 'otherwis', 'brilliant', 'film', 'bulworth', 'smart', 'uproari', 'funni', 'pictur', 'prove', 'polit', 'satir', 'scratch', 'far', 'deeper', 'surfac']\n",
            "\n",
            "Lemmatized review:  ['bulworth', 'ended', 'allowed', 'sigh', 'relief', 'possible', 'enjoy', 'political', 'satire', 'several', 'recent', 'political', 'film', \"n't\", 'whole', 'lot', '--', 'wag', 'dog', 'instance', 'found', 'intelligent', 'heartless', 'film', 'primary', 'color', 'unbearable', 'unwatchable', 'awfulness', 'bulworth', 'far', 'better', 'film', 'execution', 'lasting', 'impression', \"'s\", 'tremendously', 'funny', 'intelligent', 'picture', 'also', 'emotional', 'center', '--', 'writer/director/star', 'warren', 'beatty', 'allows', 'audience', 'identify', 'character', 'turn', 'like', 'actually', 'care', 'story', 'beatty', 'play', 'incumbent', 'democratic', 'senator', 'jay', 'billington', 'bulworth', 'film', 'open', 'see', 'bulworth', 'sobbing', 'watch', 'television', 'spot', \"n't\", 'slept', 'day', 'eaten', 'almost', 'instantaneously', 'go', 'insane', \"'s\", 'stark', 'raving', 'mad', 'outright', 'anyway', \"'s\", 'definitely', 'bonkers', \"'s\", 'final', 'weekend', 'campaign', 'assistant', 'murphy', 'oliver', 'platt', 'written', 'speech', 'feed', 'group', 'black', 'people', 'church', 'ghetto', 'bulworth', 'begin', 'speech', 'suddenly', 'go', 'track', 'start', 'honest', '``', 'mean', '``', 'one', 'lady', 'asks', '``', 'democratic', 'party', \"n't\", 'care', 'african', 'american', 'community', '``', '``', 'well', '``', 'shout', 'laughing', '``', \"n't\", 'obvious', '``', 'story', 'propelled', 'device', 'bulworth', 'put', 'contract', 'life', 'mus', 'later', \"'s\", 'bad', 'thing', 'make', 'decision', \"'re\", 'suicidal', 'keep', 'seeing', 'man', 'sunglass', 'graham', 'beckel', 'belief', 'hitman', 'bulworth', 'also', 'meet', 'nina', 'halle', 'berry', 'becomes', 'infatuated', 'suddenly', 'short', 'span', 'weekend', 'bulworth', \"'s\", 'no-nonsense', '``', 'truth', 'politics', '``', 'method', 'become', 'national', 'sensation', 'shoot', 'ahead', 'poll', 'despite', 'fact', \"'s\", 'appearing', 'television', 'wearing', 'gang', 'clothes', 'spewing', 'profanity', 'coherent', 'sentence', 'beatty', \"'s\", 'work', 'side', 'camera', 'excellent', 'script', 'direction', 'extremely', 'sharp', 'surprisingly', 'strong', 'characterization', 'bulworth', 'man', \"'s\", 'reached', 'limit', 'way', 'lashing', 'back', 'screwing', 'entire', 'political', 'structure', 'like', 'film', \"n't\", 'take', 'clear', 'shot', 'political', 'party', 'affiliation', 'politics', 'general', 'everything', 'run', 'rich', 'although', 'anti-rich', 'sentiment', 'get', 'bit', 'tiresome', 'end', 'film', 'segment', 'simply', 'hilarious', 'lengthy', 'rap', 'delivers', 'luncheon', 'dedicated', 'much', 'film', 'completely', 'absurd', \"'s\", 'fun', 'part', \"'s\", 'angry', 'serious', 'film', 'core', 'package', 'beatty', 'created', 'much', 'accessible', 'recent', 'attempt', 'genre', 'add', 'feeling', 'beatty', \"'s\", 'portrayal', 'bulworth', 'performance', 'deserves', 'recognition', 'higher', 'scale', 'beatty', 'much', 'fun', 'watch', '--', \"'s\", 'always', 'funny', \"'s\", 'also', 'subtle', 'way', 'flesh', 'character', 'without', 'dialogue', 'hugely', 'noticeable', 'action', 'beatty', 'good', 'bulworth', 'despite', 'shortcoming', 'human', 'entirely', 'sympathetic', 'likable', 'character', 'almost', 'beginning', 'supporting', 'cast', 'vast', 'colorful', 'berry', 'luminous', 'always', 'add', 'repertoire', 'solid', 'supporting', 'role', 'cheadle', 'good', 'role', 'drug', 'dealer', 'us', 'gun-toting', 'toddler', 'dirty', 'work', 'oliver', 'platt', 'actor', 'careful', 'someday', 'fear', 'may', 'induce', 'heart', 'attack', 'intensity', 'acting', 'though', \"'s\", 'funny', 'watch', 'paul', 'sorvino', 'add', 'southern', 'accent', 'list', 'mastered', 'inflection', 'bulworth', 'offensive', 'suppose', 'may', 'see', 'way', \"n't\", 'offended', 'film', 'hardly', 'care', 'politics', 'think', 'people', 'find', 'film', 'offensive', 'blindsided', 'honesty', 'story', 'film', \"n't\", 'perfect', 'course', '--', 'ending', \"n't\", 'quite', 'work', 'scene', 'bulworth', 'nina', 'feel', 'forced', 'although', 'eclectic', 'dance', 'sequence', 'fantastic', 'minor', 'quibble', 'otherwise', 'brilliant', 'film', 'bulworth', 'smart', 'uproariously', 'funny', 'picture', 'prof', 'political', 'satire', 'scratch', 'far', 'deeper', 'surface']\n"
          ]
        }
      ]
    },
    {
      "cell_type": "markdown",
      "source": [
        "\n",
        "\n",
        "**Pandas**"
      ],
      "metadata": {
        "id": "ywQMjkwSw7W-"
      }
    },
    {
      "cell_type": "code",
      "source": [
        "# Ex-1. Draw Scatter Plot between SepalLengthCm and SepalWidthCm for “Iris.csv” file with proper labelling.\n",
        "\n",
        "import numpy as np\n",
        "import pandas as pd\n",
        "import matplotlib.pyplot as plt\n",
        "\n",
        "data = pd.read_csv(\"drive/MyDrive/iris.csv\")\n",
        "\n",
        "plt.scatter(data[\"sepal.length\"], data[\"sepal.width\"])\n",
        "plt.show()"
      ],
      "metadata": {
        "id": "w1--Od8Tw-UX",
        "colab": {
          "base_uri": "https://localhost:8080/",
          "height": 268
        },
        "outputId": "c936fa8b-ff16-4984-c060-84195270f938"
      },
      "execution_count": null,
      "outputs": [
        {
          "output_type": "display_data",
          "data": {
            "text/plain": [
              "<Figure size 432x288 with 1 Axes>"
            ],
            "image/png": "[encoded data removed]"
          },
          "metadata": {
            "needs_background": "light"
          }
        }
      ]
    },
    {
      "cell_type": "code",
      "source": [
        "# Ex-2. Draw Histogram of SepalLengthCm with proper labelling.\n",
        "\n",
        "import numpy as np\n",
        "import pandas as pd\n",
        "import matplotlib.pyplot as plt\n",
        "\n",
        "data = pd.read_csv(\"drive/MyDrive/iris.csv\")\n",
        "\n",
        "# 'bins' is the number of towers in histogram\n",
        "plt.hist(data[\"sepal.length\"], bins=20)\n",
        "plt.show()"
      ],
      "metadata": {
        "id": "Qxz97LuI158W",
        "colab": {
          "base_uri": "https://localhost:8080/",
          "height": 265
        },
        "outputId": "172e203f-7579-4173-8b5e-9c5efb2ef695"
      },
      "execution_count": null,
      "outputs": [
        {
          "output_type": "display_data",
          "data": {
            "text/plain": [
              "<Figure size 432x288 with 1 Axes>"
            ],
            "image/png": "[encoded data removed]"
          },
          "metadata": {
            "needs_background": "light"
          }
        }
      ]
    },
    {
      "cell_type": "code",
      "source": [
        "# Ex-3. Plot bar chart of Species.\n",
        "\n",
        "import numpy as np\n",
        "import pandas as pd\n",
        "import matplotlib.pyplot as plt\n",
        "\n",
        "data = pd.read_csv(\"drive/MyDrive/iris.csv\")\n",
        "\n",
        "df = pd.DataFrame(data, columns=[\"variety\"])\n",
        "labels = df[\"variety\"].unique()\n",
        "counts = df[\"variety\"].value_counts().values\n",
        "plt.bar(labels, counts, color=\"#FF6600\")\n",
        "plt.show()"
      ],
      "metadata": {
        "id": "ZR5F3dy221gA",
        "colab": {
          "base_uri": "https://localhost:8080/",
          "height": 265
        },
        "outputId": "1697582b-c770-42f7-fe5b-fd7d292a0817"
      },
      "execution_count": null,
      "outputs": [
        {
          "output_type": "display_data",
          "data": {
            "text/plain": [
              "<Figure size 432x288 with 1 Axes>"
            ],
            "image/png": "[encoded data removed]"
          },
          "metadata": {
            "needs_background": "light"
          }
        }
      ]
    },
    {
      "cell_type": "code",
      "source": [
        "# Ex-4. Count total null values for each column in this dataset.\n",
        "\n",
        "import numpy as np\n",
        "import pandas as pd\n",
        "import matplotlib.pyplot as plt\n",
        "\n",
        "data = pd.read_csv(\"drive/MyDrive/iris.csv\")\n",
        "\n",
        "print(data.isnull().sum())"
      ],
      "metadata": {
        "id": "H4d9MeFr6h4C",
        "colab": {
          "base_uri": "https://localhost:8080/"
        },
        "outputId": "3d030da2-441a-4cdb-aac6-704aeec8ac1b"
      },
      "execution_count": null,
      "outputs": [
        {
          "output_type": "stream",
          "name": "stdout",
          "text": [
            "sepal.length    0\n",
            "sepal.width     0\n",
            "petal.length    0\n",
            "petal.width     0\n",
            "variety         0\n",
            "dtype: int64\n"
          ]
        }
      ]
    },
    {
      "cell_type": "code",
      "source": [
        "# Ex-5. i) Print first 5 rows of SepalLengthCm. ii) Print from 5th row and onwards and entire column of iris.csv dataset.\n",
        "\n",
        "import numpy as np\n",
        "import pandas as pd\n",
        "import matplotlib.pyplot as plt\n",
        "\n",
        "data = pd.read_csv(\"drive/MyDrive/iris.csv\")\n",
        "\n",
        "# first 5 rows of SepalLengthCm\n",
        "print(data.loc[:4, \"sepal.length\"])\n",
        "print()\n",
        "# print from the 5th row onwards and entire column\n",
        "pd.set_option(\"display.max_rows\", 500)\n",
        "print(data.loc[5:, \"sepal.length\"])"
      ],
      "metadata": {
        "id": "Tjf_k5b260CM",
        "colab": {
          "base_uri": "https://localhost:8080/"
        },
        "outputId": "4698913d-d48e-4873-fdd7-116800b8f053"
      },
      "execution_count": null,
      "outputs": [
        {
          "output_type": "stream",
          "name": "stdout",
          "text": [
            "0    5.1\n",
            "1    4.9\n",
            "2    4.7\n",
            "3    4.6\n",
            "4    5.0\n",
            "Name: sepal.length, dtype: float64\n",
            "\n",
            "5      5.4\n",
            "6      4.6\n",
            "7      5.0\n",
            "8      4.4\n",
            "9      4.9\n",
            "10     5.4\n",
            "11     4.8\n",
            "12     4.8\n",
            "13     4.3\n",
            "14     5.8\n",
            "15     5.7\n",
            "16     5.4\n",
            "17     5.1\n",
            "18     5.7\n",
            "19     5.1\n",
            "20     5.4\n",
            "21     5.1\n",
            "22     4.6\n",
            "23     5.1\n",
            "24     4.8\n",
            "25     5.0\n",
            "26     5.0\n",
            "27     5.2\n",
            "28     5.2\n",
            "29     4.7\n",
            "30     4.8\n",
            "31     5.4\n",
            "32     5.2\n",
            "33     5.5\n",
            "34     4.9\n",
            "35     5.0\n",
            "36     5.5\n",
            "37     4.9\n",
            "38     4.4\n",
            "39     5.1\n",
            "40     5.0\n",
            "41     4.5\n",
            "42     4.4\n",
            "43     5.0\n",
            "44     5.1\n",
            "45     4.8\n",
            "46     5.1\n",
            "47     4.6\n",
            "48     5.3\n",
            "49     5.0\n",
            "50     7.0\n",
            "51     6.4\n",
            "52     6.9\n",
            "53     5.5\n",
            "54     6.5\n",
            "55     5.7\n",
            "56     6.3\n",
            "57     4.9\n",
            "58     6.6\n",
            "59     5.2\n",
            "60     5.0\n",
            "61     5.9\n",
            "62     6.0\n",
            "63     6.1\n",
            "64     5.6\n",
            "65     6.7\n",
            "66     5.6\n",
            "67     5.8\n",
            "68     6.2\n",
            "69     5.6\n",
            "70     5.9\n",
            "71     6.1\n",
            "72     6.3\n",
            "73     6.1\n",
            "74     6.4\n",
            "75     6.6\n",
            "76     6.8\n",
            "77     6.7\n",
            "78     6.0\n",
            "79     5.7\n",
            "80     5.5\n",
            "81     5.5\n",
            "82     5.8\n",
            "83     6.0\n",
            "84     5.4\n",
            "85     6.0\n",
            "86     6.7\n",
            "87     6.3\n",
            "88     5.6\n",
            "89     5.5\n",
            "90     5.5\n",
            "91     6.1\n",
            "92     5.8\n",
            "93     5.0\n",
            "94     5.6\n",
            "95     5.7\n",
            "96     5.7\n",
            "97     6.2\n",
            "98     5.1\n",
            "99     5.7\n",
            "100    6.3\n",
            "101    5.8\n",
            "102    7.1\n",
            "103    6.3\n",
            "104    6.5\n",
            "105    7.6\n",
            "106    4.9\n",
            "107    7.3\n",
            "108    6.7\n",
            "109    7.2\n",
            "110    6.5\n",
            "111    6.4\n",
            "112    6.8\n",
            "113    5.7\n",
            "114    5.8\n",
            "115    6.4\n",
            "116    6.5\n",
            "117    7.7\n",
            "118    7.7\n",
            "119    6.0\n",
            "120    6.9\n",
            "121    5.6\n",
            "122    7.7\n",
            "123    6.3\n",
            "124    6.7\n",
            "125    7.2\n",
            "126    6.2\n",
            "127    6.1\n",
            "128    6.4\n",
            "129    7.2\n",
            "130    7.4\n",
            "131    7.9\n",
            "132    6.4\n",
            "133    6.3\n",
            "134    6.1\n",
            "135    7.7\n",
            "136    6.3\n",
            "137    6.4\n",
            "138    6.0\n",
            "139    6.9\n",
            "140    6.7\n",
            "141    6.9\n",
            "142    5.8\n",
            "143    6.8\n",
            "144    6.7\n",
            "145    6.7\n",
            "146    6.3\n",
            "147    6.5\n",
            "148    6.2\n",
            "149    5.9\n",
            "Name: sepal.length, dtype: float64\n"
          ]
        }
      ]
    },
    {
      "cell_type": "markdown",
      "source": [
        "**Scikit Learn**"
      ],
      "metadata": {
        "id": "MLoIUGU9iT8B"
      }
    },
    {
      "cell_type": "code",
      "source": [
        "import numpy as np\n",
        "import matplotlib as plt\n",
        "from sklearn import datasets\n",
        "from sklearn import metrics\n",
        "from sklearn.linear_model import LogisticRegression\n",
        "from sklearn.model_selection import train_test_split\n",
        "\n",
        "wine = datasets.load_wine()\n",
        "X = wine.data\n",
        "y = wine.target\n",
        "feature_names = wine.feature_names\n",
        "target_names = wine.target_names\n",
        "\n",
        "print(\"Features: \", feature_names)\n",
        "print(\"Targets: \", target_names)\n",
        "print()\n",
        "print(X[:5])\n",
        "\n",
        "X_train, X_test, Y_train, Y_test = train_test_split(\n",
        "    X, y, test_size = 0.2, random_state = 1\n",
        ")"
      ],
      "metadata": {
        "id": "xBI5gzrfiXAO",
        "colab": {
          "base_uri": "https://localhost:8080/"
        },
        "outputId": "87b51bf7-8a2f-434c-ab94-e89be33d85dc"
      },
      "execution_count": null,
      "outputs": [
        {
          "output_type": "stream",
          "name": "stdout",
          "text": [
            "Features:  ['alcohol', 'malic_acid', 'ash', 'alcalinity_of_ash', 'magnesium', 'total_phenols', 'flavanoids', 'nonflavanoid_phenols', 'proanthocyanins', 'color_intensity', 'hue', 'od280/od315_of_diluted_wines', 'proline']\n",
            "Targets:  ['class_0' 'class_1' 'class_2']\n",
            "\n",
            "[[1.423e+01 1.710e+00 2.430e+00 1.560e+01 1.270e+02 2.800e+00 3.060e+00\n",
            "  2.800e-01 2.290e+00 5.640e+00 1.040e+00 3.920e+00 1.065e+03]\n",
            " [1.320e+01 1.780e+00 2.140e+00 1.120e+01 1.000e+02 2.650e+00 2.760e+00\n",
            "  2.600e-01 1.280e+00 4.380e+00 1.050e+00 3.400e+00 1.050e+03]\n",
            " [1.316e+01 2.360e+00 2.670e+00 1.860e+01 1.010e+02 2.800e+00 3.240e+00\n",
            "  3.000e-01 2.810e+00 5.680e+00 1.030e+00 3.170e+00 1.185e+03]\n",
            " [1.437e+01 1.950e+00 2.500e+00 1.680e+01 1.130e+02 3.850e+00 3.490e+00\n",
            "  2.400e-01 2.180e+00 7.800e+00 8.600e-01 3.450e+00 1.480e+03]\n",
            " [1.324e+01 2.590e+00 2.870e+00 2.100e+01 1.180e+02 2.800e+00 2.690e+00\n",
            "  3.900e-01 1.820e+00 4.320e+00 1.040e+00 2.930e+00 7.350e+02]]\n"
          ]
        }
      ]
    },
    {
      "cell_type": "markdown",
      "source": [
        "Exercises"
      ],
      "metadata": {
        "id": "gufCbvnEIBT_"
      }
    },
    {
      "cell_type": "code",
      "source": [
        "# Q2.\n",
        "np.random.normal(0, 1, 1)"
      ],
      "metadata": {
        "colab": {
          "base_uri": "https://localhost:8080/"
        },
        "id": "ZZc-HhhpICmu",
        "outputId": "5c0343eb-3035-46be-8882-43ca02926570"
      },
      "execution_count": null,
      "outputs": [
        {
          "output_type": "execute_result",
          "data": {
            "text/plain": [
              "array([0.704272])"
            ]
          },
          "metadata": {},
          "execution_count": 36
        }
      ]
    },
    {
      "cell_type": "code",
      "source": [
        "# Q3\n",
        "arr1 = np.random.normal(size=10)\n",
        "print(arr1)\n",
        "print(arr1[2:])\n",
        "print(arr1[-4:-2])"
      ],
      "metadata": {
        "colab": {
          "base_uri": "https://localhost:8080/"
        },
        "id": "AyrPXGxoJTl_",
        "outputId": "7678a46b-cf63-4731-a2c4-db8cc60b468b"
      },
      "execution_count": null,
      "outputs": [
        {
          "output_type": "stream",
          "name": "stdout",
          "text": [
            "[-1.30356995 -0.088642    1.10974306  2.30108112 -0.79563086 -1.75054325\n",
            " -0.5179944  -0.1881292   1.6187519   1.50564861]\n",
            "[ 1.10974306  2.30108112 -0.79563086 -1.75054325 -0.5179944  -0.1881292\n",
            "  1.6187519   1.50564861]\n",
            "[-0.5179944 -0.1881292]\n"
          ]
        }
      ]
    },
    {
      "cell_type": "code",
      "source": [
        "# Q4\n",
        "arr1 = [1,2,3,4]\n",
        "arr2 = [2,3,4,5]\n",
        "npmat = np.array([arr1, arr2, arr1, arr2])\n",
        "npmat2 = np.array([arr2, arr1, arr2, arr1])\n",
        "print(np.linalg.det(npmat), np.linalg.det(npmat2))\n",
        "print(np.transpose(npmat))\n",
        "print(np.linalg.norm(npmat2))\n",
        "print(np.multiply(npmat, npmat2))"
      ],
      "metadata": {
        "colab": {
          "base_uri": "https://localhost:8080/"
        },
        "id": "XJQ60GJYMh5o",
        "outputId": "d7a62c7b-2781-4b9c-cd1b-3a7fba5b3441"
      },
      "execution_count": null,
      "outputs": [
        {
          "output_type": "stream",
          "name": "stdout",
          "text": [
            "0.0 0.0\n",
            "[[1 2 1 2]\n",
            " [2 3 2 3]\n",
            " [3 4 3 4]\n",
            " [4 5 4 5]]\n",
            "12.96148139681572\n",
            "[[ 2  6 12 20]\n",
            " [ 2  6 12 20]\n",
            " [ 2  6 12 20]\n",
            " [ 2  6 12 20]]\n"
          ]
        }
      ]
    }
  ]
}
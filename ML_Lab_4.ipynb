{
  "nbformat": 4,
  "nbformat_minor": 0,
  "metadata": {
    "colab": {
      "provenance": [],
      "authorship_tag": "ABX9TyPdHlaNGGw7msOJoA2WW6CE",
      "include_colab_link": true
    },
    "kernelspec": {
      "name": "python3",
      "display_name": "Python 3"
    },
    "language_info": {
      "name": "python"
    }
  },
  "cells": [
    {
      "cell_type": "markdown",
      "metadata": {
        "id": "view-in-github",
        "colab_type": "text"
      },
      "source": [
        "<a href=\"https://colab.research.google.com/github/naikshrey2308/ML_Labs/blob/main/ML_Lab_4.ipynb\" target=\"_parent\"><img src=\"https://colab.research.google.com/assets/colab-badge.svg\" alt=\"Open In Colab\"/></a>"
      ]
    },
    {
      "cell_type": "markdown",
      "source": [
        "### Linear Regression using `PyTorch`"
      ],
      "metadata": {
        "id": "YTyoS-FpFNKS"
      }
    },
    {
      "cell_type": "markdown",
      "source": [
        "Import the required modules"
      ],
      "metadata": {
        "id": "wD3ch5J2Fy4E"
      }
    },
    {
      "cell_type": "code",
      "execution_count": null,
      "metadata": {
        "id": "45U_Wn4pEoLK"
      },
      "outputs": [],
      "source": [
        "import numpy as np\n",
        "import torch"
      ]
    },
    {
      "cell_type": "markdown",
      "source": [
        "Generate the required training data"
      ],
      "metadata": {
        "id": "zAoBDQTkGxbG"
      }
    },
    {
      "cell_type": "code",
      "source": [
        "inputs = np.array([[73, 67, 43], \n",
        "                   [91, 88, 64], \n",
        "                   [87, 134, 58], \n",
        "                   [102, 43, 37], \n",
        "                   [69, 96, 70], \n",
        "                   [73, 67, 43], \n",
        "                   [91, 88, 64], \n",
        "                   [87, 134, 58], \n",
        "                   [102, 43, 37], \n",
        "                   [69,96, 70], \n",
        "                   [73, 67, 43], \n",
        "                   [91, 88, 64], \n",
        "                   [87, 134, 58], \n",
        "                   [102, 43, 37], \n",
        "                   [69, 96,70]], dtype='float32')\n",
        "\n",
        "targets = np.array([[56, 70], \n",
        "                    [81, 101], \n",
        "                    [119, 133], \n",
        "                    [22, 37], \n",
        "                    [103, 119], \n",
        "                    [56, 70], \n",
        "                    [81, 101], \n",
        "                    [119, 133], \n",
        "                    [22, 37], \n",
        "                    [103, 119], \n",
        "                    [56, 70], \n",
        "                    [81, 101], \n",
        "                    [119, 133], \n",
        "                    [22, 37], \n",
        "                    [103, 119]], dtype='float32')\n",
        "\n",
        "inputs2 = inputs.copy()\n",
        "targets2 = targets.copy()"
      ],
      "metadata": {
        "id": "CKRoi8-FFdBQ"
      },
      "execution_count": null,
      "outputs": []
    },
    {
      "cell_type": "code",
      "source": [
        "import torch.nn as nn\n",
        "from torch.autograd import Variable"
      ],
      "metadata": {
        "id": "9YEV4grtHXiU"
      },
      "execution_count": null,
      "outputs": []
    },
    {
      "cell_type": "code",
      "source": [
        "inputs = torch.from_numpy(inputs)\n",
        "targets = torch.from_numpy(targets)"
      ],
      "metadata": {
        "id": "WAJ9GSqcHZLM"
      },
      "execution_count": null,
      "outputs": []
    },
    {
      "cell_type": "code",
      "source": [
        "class linearRegression(torch.nn.Module):\n",
        "    def __init__(self, inputSize, outputSize):\n",
        "        super(linearRegression, self).__init__()\n",
        "        self.linear = torch.nn.Linear(inputSize, outputSize)\n",
        "        \n",
        "    def forward(self, x):\n",
        "        out = self.linear(x)\n",
        "        return out"
      ],
      "metadata": {
        "id": "OwH3KijOHiY4"
      },
      "execution_count": null,
      "outputs": []
    },
    {
      "cell_type": "code",
      "source": [
        "# alpha = 0.1\n",
        "alpha = 1e-7\n",
        "model = linearRegression(inputs.size()[1], targets.size()[1])\n",
        "# epochs = min(100, inputs.size()[0])\n",
        "epochs = 1000\n",
        "\n",
        "criterion = torch.nn.MSELoss(reduction=\"mean\")\n",
        "optimizer = torch.optim.SGD(model.parameters(), lr=alpha)\n",
        "\n",
        "loss_values = []\n",
        "epoch_values = [(i + 1) for i in range(epochs)]\n",
        "\n",
        "for epoch in range(epochs):\n",
        "    optimizer.zero_grad()\n",
        "    outputs = model(inputs)\n",
        "    loss = criterion(outputs, targets)\n",
        "    loss_values.append(loss.detach().numpy())\n",
        "    if epoch == 0 or epoch == epochs - 1:\n",
        "        print(loss)\n",
        "    loss.backward()\n",
        "    optimizer.step()\n",
        "\n",
        "print(list(model.parameters()))"
      ],
      "metadata": {
        "id": "D_W4j7JJJZbQ",
        "colab": {
          "base_uri": "https://localhost:8080/"
        },
        "outputId": "dd8fb94d-d45d-4060-921b-badd31a09294"
      },
      "execution_count": null,
      "outputs": [
        {
          "output_type": "stream",
          "name": "stdout",
          "text": [
            "tensor(11136.0273, grad_fn=<MseLossBackward0>)\n",
            "tensor(1304.9304, grad_fn=<MseLossBackward0>)\n",
            "[Parameter containing:\n",
            "tensor([[ 0.5663,  0.2077, -0.0958],\n",
            "        [ 0.7588,  0.1449,  0.1415]], requires_grad=True), Parameter containing:\n",
            "tensor([-0.1158, -0.0269], requires_grad=True)]\n"
          ]
        }
      ]
    },
    {
      "cell_type": "code",
      "source": [
        "# Plotting a graph of number of epochs vs loss\n",
        "import matplotlib.pyplot as plt\n",
        "plt.figure(figsize=(6,6))\n",
        "plt.plot(epoch_values, loss_values)\n",
        "plt.show()"
      ],
      "metadata": {
        "colab": {
          "base_uri": "https://localhost:8080/",
          "height": 374
        },
        "id": "UjFxZEkK8K-t",
        "outputId": "74dc42a8-3a9b-4a94-bb8f-b782f95c0106"
      },
      "execution_count": null,
      "outputs": [
        {
          "output_type": "display_data",
          "data": {
            "text/plain": [
              "<Figure size 432x432 with 1 Axes>"
            ],
            "image/png": "[encoded data removed]"
          },
          "metadata": {
            "needs_background": "light"
          }
        }
      ]
    },
    {
      "cell_type": "code",
      "source": [
        "predicted = model(Variable(inputs)).data.numpy()\n",
        "predicted = Variable(torch.from_numpy(predicted))\n",
        "for i in range(len(predicted)):\n",
        "    print(predicted[i], targets[i], abs(predicted[i] - targets[i]))"
      ],
      "metadata": {
        "id": "fgKdDx4uM449",
        "colab": {
          "base_uri": "https://localhost:8080/"
        },
        "outputId": "4533ae67-c2e3-48e4-dfbb-fe5fd3d616b8"
      },
      "execution_count": null,
      "outputs": [
        {
          "output_type": "stream",
          "name": "stdout",
          "text": [
            "tensor([57.1369, 70.3507]) tensor([56., 70.]) tensor([1.1369, 0.3507])\n",
            "tensor([ 82.2238, 100.6435]) tensor([ 81., 101.]) tensor([1.2238, 0.3565])\n",
            "tensor([118.6997, 132.9529]) tensor([119., 133.]) tensor([0.3003, 0.0471])\n",
            "tensor([21.0857, 37.0104]) tensor([22., 37.]) tensor([0.9143, 0.0104])\n",
            "tensor([101.9139, 119.1433]) tensor([103., 119.]) tensor([1.0861, 0.1433])\n",
            "tensor([57.1369, 70.3507]) tensor([56., 70.]) tensor([1.1369, 0.3507])\n",
            "tensor([ 82.2238, 100.6435]) tensor([ 81., 101.]) tensor([1.2238, 0.3565])\n",
            "tensor([118.6997, 132.9529]) tensor([119., 133.]) tensor([0.3003, 0.0471])\n",
            "tensor([21.0857, 37.0104]) tensor([22., 37.]) tensor([0.9143, 0.0104])\n",
            "tensor([101.9139, 119.1433]) tensor([103., 119.]) tensor([1.0861, 0.1433])\n",
            "tensor([57.1369, 70.3507]) tensor([56., 70.]) tensor([1.1369, 0.3507])\n",
            "tensor([ 82.2238, 100.6435]) tensor([ 81., 101.]) tensor([1.2238, 0.3565])\n",
            "tensor([118.6997, 132.9529]) tensor([119., 133.]) tensor([0.3003, 0.0471])\n",
            "tensor([21.0857, 37.0104]) tensor([22., 37.]) tensor([0.9143, 0.0104])\n",
            "tensor([101.9139, 119.1433]) tensor([103., 119.]) tensor([1.0861, 0.1433])\n"
          ]
        }
      ]
    },
    {
      "cell_type": "code",
      "source": [
        "# Predict crop yield for apples if temp = 70, rain = 34, and humidity = 45\n",
        "input = torch.from_numpy(np.array([70, 34, 45], dtype=\"float32\"))\n",
        "print(model(Variable(input)).data.numpy())"
      ],
      "metadata": {
        "colab": {
          "base_uri": "https://localhost:8080/"
        },
        "id": "iuT7duUR-auz",
        "outputId": "5f7c9548-6c24-44d2-be1d-43db271fec3a"
      },
      "execution_count": null,
      "outputs": [
        {
          "output_type": "stream",
          "name": "stdout",
          "text": [
            "[42.27683 64.37903]\n"
          ]
        }
      ]
    },
    {
      "cell_type": "markdown",
      "source": [
        "### Linear Regression using `sklearn`"
      ],
      "metadata": {
        "id": "5xUGRnZq2Qpp"
      }
    },
    {
      "cell_type": "code",
      "source": [
        "from sklearn.model_selection import train_test_split\n",
        "from sklearn.metrics import mean_squared_error\n",
        "from sklearn.linear_model import LinearRegression"
      ],
      "metadata": {
        "id": "_PxE4cnH2WOz"
      },
      "execution_count": null,
      "outputs": []
    },
    {
      "cell_type": "code",
      "source": [
        "X_train, X_test, y_train, y_test = train_test_split(inputs2, targets2, test_size=0.2)\n",
        "model = LinearRegression()\n",
        "model.fit(X_train, y_train)\n",
        "predictions = model.predict(X_test)\n",
        "predictions, y_test"
      ],
      "metadata": {
        "colab": {
          "base_uri": "https://localhost:8080/"
        },
        "id": "ie4Fsnmw6jXi",
        "outputId": "fa9b7ad0-260b-425b-97b4-1982c7ea2d61"
      },
      "execution_count": null,
      "outputs": [
        {
          "output_type": "execute_result",
          "data": {
            "text/plain": [
              "(array([[ 84.48595, 100.75566],\n",
              "        [ 84.48595, 100.75566],\n",
              "        [ 84.48595, 100.75566]], dtype=float32), array([[ 81., 101.],\n",
              "        [ 81., 101.],\n",
              "        [ 81., 101.]], dtype=float32))"
            ]
          },
          "metadata": {},
          "execution_count": 9
        }
      ]
    },
    {
      "cell_type": "code",
      "source": [
        "mean_squared_error(predictions, y_test)"
      ],
      "metadata": {
        "colab": {
          "base_uri": "https://localhost:8080/"
        },
        "id": "DCFwM7txA3gS",
        "outputId": "560e787e-30c7-49d6-d8a8-540ba9a66f40"
      },
      "execution_count": null,
      "outputs": [
        {
          "output_type": "execute_result",
          "data": {
            "text/plain": [
              "6.105763"
            ]
          },
          "metadata": {},
          "execution_count": 10
        }
      ]
    }
  ]
}
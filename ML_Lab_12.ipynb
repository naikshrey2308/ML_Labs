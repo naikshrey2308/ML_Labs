{
  "nbformat": 4,
  "nbformat_minor": 0,
  "metadata": {
    "colab": {
      "provenance": [],
      "authorship_tag": "ABX9TyPC0KuaLW5LC4tmttUen41M",
      "include_colab_link": true
    },
    "kernelspec": {
      "name": "python3",
      "display_name": "Python 3"
    },
    "language_info": {
      "name": "python"
    },
    "accelerator": "GPU",
    "gpuClass": "standard"
  },
  "cells": [
    {
      "cell_type": "markdown",
      "metadata": {
        "id": "view-in-github",
        "colab_type": "text"
      },
      "source": [
        "<a href=\"https://colab.research.google.com/github/naikshrey2308/ML_Labs/blob/main/ML_Lab_12.ipynb\" target=\"_parent\"><img src=\"https://colab.research.google.com/assets/colab-badge.svg\" alt=\"Open In Colab\"/></a>"
      ]
    },
    {
      "cell_type": "markdown",
      "source": [
        "# Artificial Neural Networks"
      ],
      "metadata": {
        "id": "FxVDkkHPnl5J"
      }
    },
    {
      "cell_type": "code",
      "execution_count": 2,
      "metadata": {
        "id": "QTdovhtInjnO"
      },
      "outputs": [],
      "source": [
        "import pandas as pd\n",
        "import numpy as np\n",
        "import tensorflow as tf\n",
        "import matplotlib.pyplot as plt"
      ]
    },
    {
      "cell_type": "code",
      "source": [
        "import torch\n",
        "import torch.nn as nn\n",
        "from torch.autograd import Variable\n",
        "from torch.utils.data import DataLoader"
      ],
      "metadata": {
        "id": "EloJkPBVqefe"
      },
      "execution_count": 3,
      "outputs": []
    },
    {
      "cell_type": "code",
      "source": [
        "from tensorflow.keras.datasets import mnist\n",
        "\n",
        "(X_train, y_train), (X_test, y_test) = mnist.load_data()\n",
        "type(X_train), len(X_train), len(X_test), len(y_train)"
      ],
      "metadata": {
        "colab": {
          "base_uri": "https://localhost:8080/"
        },
        "id": "QWvMHtIzqv18",
        "outputId": "40044076-25ee-4991-ac65-77c6306038bf"
      },
      "execution_count": 4,
      "outputs": [
        {
          "output_type": "stream",
          "name": "stdout",
          "text": [
            "Downloading data from https://storage.googleapis.com/tensorflow/tf-keras-datasets/mnist.npz\n",
            "11490434/11490434 [==============================] - 2s 0us/step\n"
          ]
        },
        {
          "output_type": "execute_result",
          "data": {
            "text/plain": [
              "(numpy.ndarray, 60000, 10000, 60000)"
            ]
          },
          "metadata": {},
          "execution_count": 4
        }
      ]
    },
    {
      "cell_type": "markdown",
      "source": [
        "The type of the data is numpy array. In order to work with the neural networks, we need to convert the data into appropriate format."
      ],
      "metadata": {
        "id": "tq8Q75ISsMXI"
      }
    },
    {
      "cell_type": "code",
      "source": [
        "# convert the data to float\n",
        "X_train = X_train.astype(dtype=np.float32)\n",
        "X_test = X_test.astype(dtype=np.float32)"
      ],
      "metadata": {
        "id": "5r6vaaapsLpc"
      },
      "execution_count": 5,
      "outputs": []
    },
    {
      "cell_type": "code",
      "source": [
        "X_train.shape, X_test.shape, y_train.shape, y_test.shape"
      ],
      "metadata": {
        "colab": {
          "base_uri": "https://localhost:8080/"
        },
        "id": "NnQGaOMbtEMM",
        "outputId": "1b582bf4-1563-40ec-ba18-ede2ea22f484"
      },
      "execution_count": 6,
      "outputs": [
        {
          "output_type": "execute_result",
          "data": {
            "text/plain": [
              "((60000, 28, 28), (10000, 28, 28), (60000,), (10000,))"
            ]
          },
          "metadata": {},
          "execution_count": 6
        }
      ]
    },
    {
      "cell_type": "markdown",
      "source": [
        "We need to flatten the images of 28 x 28 to feed them into the neural network."
      ],
      "metadata": {
        "id": "aPTd1s4vtLzN"
      }
    },
    {
      "cell_type": "code",
      "source": [
        "X_train = X_train.reshape((X_train.shape[0], -1))\n",
        "X_test = X_test.reshape((X_test.shape[0], -1))\n",
        "X_train.shape, X_test.shape"
      ],
      "metadata": {
        "colab": {
          "base_uri": "https://localhost:8080/"
        },
        "id": "_DJXwJTBtUaI",
        "outputId": "136ceb18-5ccc-4437-c813-b40f30f08939"
      },
      "execution_count": 7,
      "outputs": [
        {
          "output_type": "execute_result",
          "data": {
            "text/plain": [
              "((60000, 784), (10000, 784))"
            ]
          },
          "metadata": {},
          "execution_count": 7
        }
      ]
    },
    {
      "cell_type": "markdown",
      "source": [
        "Now we need to convert the given input in the range of 0 to 1 so as to feed it into the neural network. Therefore, we normalize the inputs."
      ],
      "metadata": {
        "id": "Hl693fvhuSEI"
      }
    },
    {
      "cell_type": "code",
      "source": [
        "X_train = X_train / 255.0\n",
        "X_test = X_test / 255.0\n",
        "X_train"
      ],
      "metadata": {
        "colab": {
          "base_uri": "https://localhost:8080/"
        },
        "id": "u8IM3w41ucX-",
        "outputId": "a4ac2fc0-b09a-4daf-d1ec-8d9e23793085"
      },
      "execution_count": 8,
      "outputs": [
        {
          "output_type": "execute_result",
          "data": {
            "text/plain": [
              "array([[0., 0., 0., ..., 0., 0., 0.],\n",
              "       [0., 0., 0., ..., 0., 0., 0.],\n",
              "       [0., 0., 0., ..., 0., 0., 0.],\n",
              "       ...,\n",
              "       [0., 0., 0., ..., 0., 0., 0.],\n",
              "       [0., 0., 0., ..., 0., 0., 0.],\n",
              "       [0., 0., 0., ..., 0., 0., 0.]], dtype=float32)"
            ]
          },
          "metadata": {},
          "execution_count": 8
        }
      ]
    },
    {
      "cell_type": "markdown",
      "source": [
        "Create the tensors for the features and targets."
      ],
      "metadata": {
        "id": "gmP_ZUxvxI79"
      }
    },
    {
      "cell_type": "code",
      "source": [
        "X_train_data = torch.from_numpy(X_train)\n",
        "X_test_data = torch.from_numpy(X_test)\n",
        "y_train_data = torch.from_numpy(y_train)\n",
        "y_test_data = torch.from_numpy(y_test)\n",
        "\n",
        "X_train_data.shape, y_train_data.shape"
      ],
      "metadata": {
        "colab": {
          "base_uri": "https://localhost:8080/"
        },
        "id": "iuDJYRBBwY45",
        "outputId": "a1b02e8f-1ec3-4308-eb98-f1d6d5464c3a"
      },
      "execution_count": 9,
      "outputs": [
        {
          "output_type": "execute_result",
          "data": {
            "text/plain": [
              "(torch.Size([60000, 784]), torch.Size([60000]))"
            ]
          },
          "metadata": {},
          "execution_count": 9
        }
      ]
    },
    {
      "cell_type": "markdown",
      "source": [
        "Initialize the model parameters."
      ],
      "metadata": {
        "id": "hOzGwYpgxsds"
      }
    },
    {
      "cell_type": "code",
      "source": [
        "batch_size = 32 #@param {type: \"number\"}\n",
        "iterations = 10000 #@param {type: \"number\"}\n",
        "epochs = iterations / (len(X_train) / batch_size)\n",
        "epochs = int(epochs)\n",
        "epochs"
      ],
      "metadata": {
        "colab": {
          "base_uri": "https://localhost:8080/"
        },
        "id": "1xvmLA-Qwo20",
        "outputId": "c4ed296d-d89d-4adf-c364-90467b329eb1"
      },
      "execution_count": 10,
      "outputs": [
        {
          "output_type": "execute_result",
          "data": {
            "text/plain": [
              "5"
            ]
          },
          "metadata": {},
          "execution_count": 10
        }
      ]
    },
    {
      "cell_type": "markdown",
      "source": [
        "We can not feed the entire data in the network. Therefore, we load it in parts using `DataLoader`."
      ],
      "metadata": {
        "id": "Sn8j2tyi0AD4"
      }
    },
    {
      "cell_type": "code",
      "source": [
        "dataloader = DataLoader(dataset=X_train_data, batch_size=batch_size, shuffle=False)\n",
        "outputloader = DataLoader(dataset=y_train_data, batch_size=batch_size, shuffle=False)\n",
        "testloader = DataLoader(dataset=X_test_data, batch_size=batch_size, shuffle=False)\n",
        "testoploader = DataLoader(dataset=y_test_data, batch_size=batch_size, shuffle=False)"
      ],
      "metadata": {
        "id": "lCEWXDh-zF0t"
      },
      "execution_count": 11,
      "outputs": []
    },
    {
      "cell_type": "markdown",
      "source": [
        "Here's a look at one of our input images."
      ],
      "metadata": {
        "id": "eDG-ZmPK0IEd"
      }
    },
    {
      "cell_type": "code",
      "source": [
        "def image_display(arr):\n",
        "    arr = arr.cpu().detach().numpy()\n",
        "    arr = arr.reshape(28, 28)\n",
        "    plt.imshow(arr)"
      ],
      "metadata": {
        "id": "YCcxUWCsz2dc"
      },
      "execution_count": 12,
      "outputs": []
    },
    {
      "cell_type": "code",
      "source": [
        "image_display(X_train_data[0])"
      ],
      "metadata": {
        "colab": {
          "base_uri": "https://localhost:8080/",
          "height": 265
        },
        "id": "mI6wur4E0i3a",
        "outputId": "69844279-f650-4f0e-b332-162509997efa"
      },
      "execution_count": 13,
      "outputs": [
        {
          "output_type": "display_data",
          "data": {
            "text/plain": [
              "<Figure size 432x288 with 1 Axes>"
            ],
            "image/png": "[encoded data removed]"
          },
          "metadata": {
            "needs_background": "light"
          }
        }
      ]
    },
    {
      "cell_type": "markdown",
      "source": [
        "### Creating the model"
      ],
      "metadata": {
        "id": "Z1Ak0JIF3O6t"
      }
    },
    {
      "cell_type": "code",
      "source": [
        "class ANNModel(nn.Module):\n",
        "    def __init__(self, input, hidden, output):\n",
        "        super(ANNModel, self).__init__()\n",
        "        self.linear1 = nn.Linear(input, hidden)\n",
        "        self.linear2 = nn.Linear(hidden, output)\n",
        "    def forward(self, X):\n",
        "        X = X.view(-1, 28*28)\n",
        "        X = torch.sigmoid(self.linear1(X))\n",
        "        X = self.linear2(X)\n",
        "        return X"
      ],
      "metadata": {
        "id": "6NTfwB3l1Fm9"
      },
      "execution_count": 26,
      "outputs": []
    },
    {
      "cell_type": "code",
      "source": [
        "input_dim = (28 * 28)\n",
        "hidden_dim = (28 * 10)\n",
        "output_dim = 10\n",
        "\n",
        "model = ANNModel(input_dim, hidden_dim, output_dim)\n",
        "\n",
        "model.parameters"
      ],
      "metadata": {
        "colab": {
          "base_uri": "https://localhost:8080/"
        },
        "id": "0j8Zj93N2Mvb",
        "outputId": "5882421a-99f8-486f-a124-97e8a5fe5bbe"
      },
      "execution_count": 27,
      "outputs": [
        {
          "output_type": "execute_result",
          "data": {
            "text/plain": [
              "<bound method Module.parameters of ANNModel(\n",
              "  (linear1): Linear(in_features=784, out_features=280, bias=True)\n",
              "  (linear2): Linear(in_features=280, out_features=10, bias=True)\n",
              ")>"
            ]
          },
          "metadata": {},
          "execution_count": 27
        }
      ]
    },
    {
      "cell_type": "code",
      "source": [
        "criterion = nn.CrossEntropyLoss()\n",
        "learning_rate = 0.02 #@param {type: \"number\"}\n",
        "optimizer = torch.optim.SGD(model.parameters(), lr=learning_rate)"
      ],
      "metadata": {
        "id": "pSHco56-2rXo"
      },
      "execution_count": 28,
      "outputs": []
    },
    {
      "cell_type": "markdown",
      "source": [
        "### Training the model"
      ],
      "metadata": {
        "id": "_W_IKWCp3SNY"
      }
    },
    {
      "cell_type": "code",
      "source": [
        "count = 0\n",
        "loss_list = []\n",
        "iteration_list = []\n",
        "accuracy_list = []\n",
        "\n",
        "for epoch in range(epochs):\n",
        "    for i, j in zip(dataloader, outputloader):\n",
        "        optimizer.zero_grad()\n",
        "        train = Variable(i)\n",
        "        labels = Variable(j)\n",
        "        predictions = model(train)\n",
        "        loss = nn.functional.cross_entropy(predictions, labels)\n",
        "        count += 1\n",
        "        loss.backward()\n",
        "        optimizer.step()\n",
        "        if count % 1000 == 0:\n",
        "            correct = 0\n",
        "            total = 0\n",
        "            with torch.no_grad():\n",
        "              for ti, tj in zip(dataloader, outputloader):\n",
        "                test = Variable(ti)\n",
        "                testop = Variable(tj)\n",
        "                predictions = model(test)\n",
        "                _, predicted = torch.max(predictions.data, 1)\n",
        "                total += testop.size(0)\n",
        "                correct += (predicted == testop).sum().item()\n",
        "            accuracy = 100 * correct / total\n",
        "            accuracy_list.append(accuracy)\n",
        "            print(\"Loss ... \", loss)\n",
        "            print(\"Accuracy ... \\n\", accuracy)\n",
        "            loss_list.append(loss.item())\n",
        "            iteration_list.append(count)"
      ],
      "metadata": {
        "colab": {
          "base_uri": "https://localhost:8080/"
        },
        "id": "lncpiOMU3RrZ",
        "outputId": "4e222416-8389-4b64-838c-440cb614610a"
      },
      "execution_count": 29,
      "outputs": [
        {
          "output_type": "stream",
          "name": "stdout",
          "text": [
            "Loss ...  tensor(1.1904, grad_fn=<NllLossBackward0>)\n",
            "Accuracy ... \n",
            " 76.245\n",
            "Loss ...  tensor(0.6322, grad_fn=<NllLossBackward0>)\n",
            "Accuracy ... \n",
            " 84.32\n",
            "Loss ...  tensor(0.5951, grad_fn=<NllLossBackward0>)\n",
            "Accuracy ... \n",
            " 86.79\n",
            "Loss ...  tensor(0.4739, grad_fn=<NllLossBackward0>)\n",
            "Accuracy ... \n",
            " 88.29333333333334\n",
            "Loss ...  tensor(0.4381, grad_fn=<NllLossBackward0>)\n",
            "Accuracy ... \n",
            " 89.08\n",
            "Loss ...  tensor(0.3533, grad_fn=<NllLossBackward0>)\n",
            "Accuracy ... \n",
            " 89.225\n",
            "Loss ...  tensor(0.3871, grad_fn=<NllLossBackward0>)\n",
            "Accuracy ... \n",
            " 89.89666666666666\n",
            "Loss ...  tensor(0.4531, grad_fn=<NllLossBackward0>)\n",
            "Accuracy ... \n",
            " 90.06833333333333\n",
            "Loss ...  tensor(0.1804, grad_fn=<NllLossBackward0>)\n",
            "Accuracy ... \n",
            " 90.33166666666666\n"
          ]
        }
      ]
    },
    {
      "cell_type": "code",
      "source": [
        "plt.plot(iteration_list, loss_list)\n",
        "plt.show()"
      ],
      "metadata": {
        "colab": {
          "base_uri": "https://localhost:8080/",
          "height": 265
        },
        "id": "mhVXj_Yt6HeK",
        "outputId": "2c65aaed-c506-4ac0-b5d1-97e3fe3bf006"
      },
      "execution_count": 30,
      "outputs": [
        {
          "output_type": "display_data",
          "data": {
            "text/plain": [
              "<Figure size 432x288 with 1 Axes>"
            ],
            "image/png": "[encoded data removed]"
          },
          "metadata": {
            "needs_background": "light"
          }
        }
      ]
    }
  ]
}